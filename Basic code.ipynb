{
 "cells": [
  {
   "cell_type": "markdown",
   "id": "7e1f5118",
   "metadata": {},
   "source": [
    "# Find maximum "
   ]
  },
  {
   "cell_type": "code",
   "execution_count": null,
   "id": "3d67a04f",
   "metadata": {},
   "outputs": [],
   "source": [
    "a=input(\"Enter Value of A\\n\")\n",
    "b=input(\"Enter Value of B\\n\")\n",
    "if a>b:\n",
    "    print(\"A maximum then B :\",a )\n",
    "else:\n",
    "    print(\"B maximum then A :\",b)\n"
   ]
  },
  {
   "cell_type": "markdown",
   "id": "191aba42",
   "metadata": {},
   "source": [
    "# Print ASCII Value"
   ]
  },
  {
   "cell_type": "code",
   "execution_count": null,
   "id": "3c4b526a",
   "metadata": {},
   "outputs": [],
   "source": [
    "c=input(\"Enter Character \\n\")\n",
    "print(\"ASCII Value of\" +c+ \" is\",ord(c))    "
   ]
  },
  {
   "cell_type": "markdown",
   "id": "9d6d2860",
   "metadata": {},
   "source": [
    "# Programs to print triangles using *, numbers and characters\n"
   ]
  },
  {
   "cell_type": "code",
   "execution_count": 2,
   "id": "a2136b19",
   "metadata": {},
   "outputs": [
    {
     "name": "stdout",
     "output_type": "stream",
     "text": [
      "Enter number of rows\n",
      "3\n",
      "* \n",
      "\n",
      "* * \n",
      "\n",
      "* * * \n",
      "\n"
     ]
    }
   ],
   "source": [
    "x=int(input(\"Enter number of rows\\n\"))\n",
    "for i in range (x):\n",
    "    for j in range (i+1):\n",
    "        print(\"*\",end=\" \")\n",
    "    print(\"\\n\")"
   ]
  },
  {
   "cell_type": "markdown",
   "id": "5a8f9285",
   "metadata": {},
   "source": [
    "# Sum of Numbers"
   ]
  },
  {
   "cell_type": "code",
   "execution_count": 28,
   "id": "8103151f",
   "metadata": {},
   "outputs": [
    {
     "name": "stdout",
     "output_type": "stream",
     "text": [
      "Enter Number to find Sum \n",
      "0\n",
      "Invalid Entry :\n",
      "Data\n",
      "0\n",
      "Sum  0\n"
     ]
    }
   ],
   "source": [
    "i=0\n",
    "x= int(input(\"Enter Number to find Sum \\n\"))\n",
    "if x<1:\n",
    "    print(\"Invalid Entry :\")\n",
    "print(\"Data\")\n",
    "for j in range (0,x+1,1):\n",
    "    print(j)\n",
    "    i=i+j\n",
    "print(\"Sum \",i)\n",
    "    \n",
    "    "
   ]
  },
  {
   "cell_type": "code",
   "execution_count": null,
   "id": "75198d6f",
   "metadata": {},
   "outputs": [],
   "source": []
  },
  {
   "cell_type": "code",
   "execution_count": null,
   "id": "982fbdc6",
   "metadata": {},
   "outputs": [],
   "source": []
  }
 ],
 "metadata": {
  "kernelspec": {
   "display_name": "Python 3 (ipykernel)",
   "language": "python",
   "name": "python3"
  },
  "language_info": {
   "codemirror_mode": {
    "name": "ipython",
    "version": 3
   },
   "file_extension": ".py",
   "mimetype": "text/x-python",
   "name": "python",
   "nbconvert_exporter": "python",
   "pygments_lexer": "ipython3",
   "version": "3.9.7"
  }
 },
 "nbformat": 4,
 "nbformat_minor": 5
}
